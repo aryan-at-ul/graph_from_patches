{
  "nbformat": 4,
  "nbformat_minor": 0,
  "metadata": {
    "colab": {
      "provenance": [],
      "authorship_tag": "ABX9TyOOC0DYrDEHqHLGM2cDvz78",
      "include_colab_link": true
    },
    "kernelspec": {
      "name": "python3",
      "display_name": "Python 3"
    },
    "language_info": {
      "name": "python"
    }
  },
  "cells": [
    {
      "cell_type": "markdown",
      "metadata": {
        "id": "view-in-github",
        "colab_type": "text"
      },
      "source": [
        "<a href=\"https://colab.research.google.com/github/aryan-at-ul/graph_from_patches/blob/main/random_code_graph_related.ipynb\" target=\"_parent\"><img src=\"https://colab.research.google.com/assets/colab-badge.svg\" alt=\"Open In Colab\"/></a>"
      ]
    },
    {
      "cell_type": "code",
      "execution_count": null,
      "metadata": {
        "id": "PrYIhGD0ZxE6"
      },
      "outputs": [],
      "source": [
        "import networkx as nx\n",
        "import matplotlib.pyplot as plt\n",
        "\n",
        "# Create a directed graph\n",
        "G = nx.DiGraph()\n",
        "\n",
        "# Add nodes\n",
        "G.add_nodes_from([1, 2, 3, 4, 5])\n",
        "\n",
        "# Add edges representing the partial order relation\n",
        "G.add_edges_from([(1, 2), (1, 3), (2, 4), (2, 5)])\n",
        "\n",
        "# Create the Hasse diagram\n",
        "pos = nx.spring_layout(G, seed=42)  # Layout algorithm for positioning nodes\n",
        "nx.draw_networkx_nodes(G, pos, node_color='lightblue')\n",
        "nx.draw_networkx_edges(G, pos, edge_color='gray', arrows=False)\n",
        "nx.draw_networkx_labels(G, pos, font_color='black')\n",
        "\n",
        "# Optional: Add labels to the edges to represent the order relation\n",
        "edge_labels = {(1, 2): '1 < 2', (1, 3): '1 < 3', (2, 4): '2 < 4', (2, 5): '2 < 5'}\n",
        "nx.draw_networkx_edge_labels(G, pos, edge_labels=edge_labels)\n",
        "\n",
        "plt.axis('off')\n",
        "plt.show()\n"
      ]
    }
  ]
}